{
 "cells": [
  {
   "cell_type": "markdown",
   "metadata": {},
   "source": [
    "### 1. Loading Dataset and EDA"
   ]
  },
  {
   "cell_type": "code",
   "execution_count": null,
   "metadata": {},
   "outputs": [],
   "source": [
    "import pandas as pd\n",
    "import numpy as np\n",
    "\n",
    "# adjust the display precision\n",
    "pd.set_option(\"display.precision\", 3)\n",
    "\n",
    "df = pd.read_csv(\"heart_2020_cleaned.csv\")\n",
    "\n",
    "df.head()"
   ]
  },
  {
   "cell_type": "code",
   "execution_count": null,
   "metadata": {},
   "outputs": [],
   "source": [
    "df.describe()"
   ]
  },
  {
   "cell_type": "code",
   "execution_count": null,
   "metadata": {},
   "outputs": [],
   "source": [
    "df.columns"
   ]
  },
  {
   "cell_type": "markdown",
   "metadata": {},
   "source": [
    "### 2. Encoding"
   ]
  },
  {
   "cell_type": "code",
   "execution_count": null,
   "metadata": {},
   "outputs": [],
   "source": [
    "df_sub = df[['HeartDisease', 'BMI', 'Smoking', 'AlcoholDrinking', 'Stroke',\n",
    "       'PhysicalHealth', 'MentalHealth', 'DiffWalking', 'Sex', 'AgeCategory',\n",
    "        'Diabetic', 'PhysicalActivity', 'GenHealth', 'SleepTime',\n",
    "       'Asthma', 'KidneyDisease', 'SkinCancer']].copy()"
   ]
  },
  {
   "cell_type": "code",
   "execution_count": null,
   "metadata": {},
   "outputs": [],
   "source": [
    "# examine the shape\n",
    "print(\"The shape of the dataset is\", df_sub.shape)"
   ]
  },
  {
   "cell_type": "code",
   "execution_count": null,
   "metadata": {},
   "outputs": [],
   "source": [
    "set(df_sub[\"AgeCategory\"])"
   ]
  },
  {
   "cell_type": "code",
   "execution_count": null,
   "metadata": {},
   "outputs": [],
   "source": [
    "set(df_sub[\"GenHealth\"])"
   ]
  },
  {
   "cell_type": "code",
   "execution_count": null,
   "metadata": {},
   "outputs": [],
   "source": [
    "d1 = {\"Yes\":1, \"No\":0}\n",
    "d2 = {\"Male\":0, \"Female\":1}\n",
    "d3 = {'18-24':0,\n",
    " '25-29':1,\n",
    " '30-34':2,\n",
    " '35-39':3,\n",
    " '40-44':4,\n",
    " '45-49':5,\n",
    " '50-54':6,\n",
    " '55-59':7,\n",
    " '60-64':8,\n",
    " '65-69':9,\n",
    " '70-74':10,\n",
    " '75-79':11,\n",
    " '80 or older':12}\n",
    "d4 = {'Excellent':4, 'Fair':1, 'Good':2, 'Poor':0, 'Very good':3}\n",
    "\n",
    "df_sub[\"HeartDisease\"] = df_sub.HeartDisease.map(d1)\n",
    "df_sub[\"Smoking\"] = df_sub.Smoking.map(d1)\n",
    "df_sub[\"AlcoholDrinking\"] = df_sub.AlcoholDrinking.map(d1)\n",
    "df_sub[\"Stroke\"] = df_sub.Stroke.map(d1)\n",
    "df_sub[\"DiffWalking\"] = df_sub.DiffWalking.map(d1)\n",
    "df_sub[\"Diabetic\"] = df_sub.Diabetic.map(d1)\n",
    "df_sub[\"PhysicalActivity\"] = df_sub.PhysicalActivity.map(d1)\n",
    "df_sub[\"Asthma\"] = df_sub.Asthma.map(d1)\n",
    "df_sub[\"KidneyDisease\"] = df_sub.KidneyDisease.map(d1)\n",
    "df_sub[\"SkinCancer\"] = df_sub.SkinCancer.map(d1)\n",
    "\n",
    "df_sub[\"Sex\"] = df_sub.Sex.map(d2)\n",
    "\n",
    "df_sub[\"AgeCategory\"] = df_sub.AgeCategory.map(d3)\n",
    "\n",
    "df_sub[\"GenHealth\"] = df_sub.GenHealth.map(d4)"
   ]
  },
  {
   "cell_type": "code",
   "execution_count": null,
   "metadata": {},
   "outputs": [],
   "source": [
    "df_sub"
   ]
  },
  {
   "cell_type": "markdown",
   "metadata": {},
   "source": [
    "### Output Data"
   ]
  },
  {
   "cell_type": "code",
   "execution_count": null,
   "metadata": {},
   "outputs": [],
   "source": [
    "# write files\n",
    "outfilepath = \"./\"\n",
    "file_name = outfilepath + \"clean\" + \".csv\"\n",
    "df_sub.to_csv(file_name, index=False)"
   ]
  }
 ],
 "metadata": {
  "interpreter": {
   "hash": "f38515062e2865a726c0b6997065476dfc4e8a8459005a9797c2f60ed67f0f78"
  },
  "kernelspec": {
   "display_name": "Python 3.9.7 ('base')",
   "language": "python",
   "name": "python3"
  },
  "language_info": {
   "codemirror_mode": {
    "name": "ipython",
    "version": 3
   },
   "file_extension": ".py",
   "mimetype": "text/x-python",
   "name": "python",
   "nbconvert_exporter": "python",
   "pygments_lexer": "ipython3",
   "version": "3.9.7"
  },
  "orig_nbformat": 4
 },
 "nbformat": 4,
 "nbformat_minor": 2
}
